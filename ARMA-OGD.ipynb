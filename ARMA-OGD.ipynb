{
 "cells": [
  {
   "cell_type": "code",
   "execution_count": 82,
   "metadata": {},
   "outputs": [],
   "source": [
    "import numpy as np\n",
    "from copy import deepcopy\n",
    "from sklearn.metrics import r2_score\n",
    "import matplotlib.pylab as plt\n",
    "%matplotlib inline\n"
   ]
  },
  {
   "cell_type": "code",
   "execution_count": 83,
   "metadata": {},
   "outputs": [
    {
     "name": "stdout",
     "output_type": "stream",
     "text": [
      "Date,Open,High,Low,Close,Volume,OpenInt\n",
      "\n",
      "1999-11-18,30.713,33.754,27.002,29.702,66277506,0\n",
      "\n"
     ]
    }
   ],
   "source": [
    "path_to_data = 'Data/Stocks/a.us.txt'\n",
    "\n",
    "with open(path_to_data, 'r') as stream:\n",
    "    data_lines = stream.readlines()\n",
    "\n",
    "print(data_lines[0])\n",
    "print(data_lines[1])\n",
    "\n",
    "X = list()\n",
    "\n",
    "data_lines = data_lines[1:]\n",
    "\n",
    "for line in data_lines:\n",
    "    try:\n",
    "        X.append(float(line.split(',')[1]))\n",
    "    except:\n",
    "        print(line)\n",
    "\n",
    "X = np.array(X)"
   ]
  },
  {
   "cell_type": "code",
   "execution_count": 145,
   "metadata": {},
   "outputs": [],
   "source": [
    "class ARMA_OGD:\n",
    "    \"\"\"\n",
    "    AutoRegressive Moving Average model with parameter estimation by Online Gradient Descent.\n",
    "    \"\"\"\n",
    "    \n",
    "    def __init__(self, k = 3, q = 3, eta = 0.00001, threshold = 0.00001, logger=False, plot=False):\n",
    "        \"\"\"\n",
    "        \n",
    "        \"\"\"\n",
    "        self.k = k\n",
    "        self.q = q\n",
    "        self.eta = eta\n",
    "        self.threshold = threshold\n",
    "        self.w_ma = np.random.randn(k)\n",
    "        self.w_ar = np.random.randn(q)\n",
    "        \n",
    "        self.logger = logger\n",
    "        self.plot = plot\n",
    "        \n",
    "    def fit(self, X, n_epochs = 100):\n",
    "        max_kq = max(self.k, self.q)\n",
    "        k_offset = max_kq - self.k\n",
    "        q_offset = max_kq - self.q\n",
    "        \n",
    "        w_ma = self.w_ma\n",
    "        w_ar = self.w_ar\n",
    "        \n",
    "        \n",
    "        n = X.shape[0]\n",
    "        \n",
    "        Y = np.random.randn(n)\n",
    "        \n",
    "        ma_changes = list()\n",
    "        ar_changes = list()\n",
    "        errors = list()\n",
    "        \n",
    "        count = 0\n",
    "        \n",
    "        for i in range(n_epochs):\n",
    "            old_ma = w_ma.copy()\n",
    "            old_ar = w_ar.copy()\n",
    "            \n",
    "            for j in np.random.permutation(n - max_kq):\n",
    "                count += 1\n",
    "                \n",
    "                curr_idx = j + max_kq\n",
    "                \n",
    "                x_prev = X[j+k_offset : curr_idx]\n",
    "                y_prev = Y[j+q_offset : curr_idx]\n",
    "                \n",
    "                pred = np.dot(x_prev, w_ma) + np.dot(y_prev, w_ar)\n",
    "                \n",
    "                Y[curr_idx] = pred\n",
    "                err = X[curr_idx] - pred\n",
    "                \n",
    "                w_ma += err * x_prev * self.eta \n",
    "                w_ar += err * y_prev * self.eta\n",
    "                \n",
    "            ma_change = np.linalg.norm(old_ma - w_ma)\n",
    "            ma_changes.append(ma_change)\n",
    "            \n",
    "            ar_change = np.linalg.norm(old_ar - w_ar)\n",
    "            ar_changes.append(ar_change)\n",
    "            \n",
    "            mean_abs_error = np.mean(np.abs(Y[max_kq:] - X[max_kq:]))\n",
    "            errors.append(mean_abs_error)\n",
    "                       \n",
    "            \n",
    "            if ar_change < self.threshold and ma_change < self.threshold:\n",
    "#                 print(errors[-1])\n",
    "                break\n",
    "        \n",
    "#         print((X[max_kq:], Y[max_kq:]))\n",
    "#         print(r2_score(X[max_kq:], Y[max_kq:]))\n",
    "\n",
    "     \n",
    "        self.w_ma = w_ma\n",
    "        self.w_ar = w_ar\n",
    "    \n",
    "    def predict(self, X):\n",
    "        max_kq = max(self.k, self.q)\n",
    "        \n",
    "        n = X.shape[0]\n",
    "        Y = np.zeros(n)\n",
    "        \n",
    "        for i in np.arange(n - max_kq):\n",
    "            curr_idx = i + max_kq\n",
    "            \n",
    "            x_prev = X[i + max_kq - self.k : curr_idx]\n",
    "            y_prev = Y[i + max_kq - self.q : curr_idx]\n",
    "            \n",
    "            Y[curr_idx] = np.dot(x_prev, self.w_ma) + np.dot(y_prev, self.w_ar)\n",
    "            \n",
    "        \n",
    "        return Y"
   ]
  },
  {
   "cell_type": "code",
   "execution_count": 146,
   "metadata": {},
   "outputs": [],
   "source": [
    "model = ARMA_OGD()"
   ]
  },
  {
   "cell_type": "code",
   "execution_count": 143,
   "metadata": {},
   "outputs": [],
   "source": [
    "# model.fit(X[:3000], n_epochs=300)"
   ]
  },
  {
   "cell_type": "code",
   "execution_count": 118,
   "metadata": {},
   "outputs": [
    {
     "name": "stdout",
     "output_type": "stream",
     "text": [
      "3\n",
      "7\n"
     ]
    },
    {
     "data": {
      "text/plain": [
       "array([  0.        ,   0.        ,   0.        ,  28.46154525,\n",
       "        21.05885876,  26.11103809,  23.70635271,  25.1438271 ,\n",
       "        24.33297812,  25.6643984 ])"
      ]
     },
     "execution_count": 118,
     "metadata": {},
     "output_type": "execute_result"
    }
   ],
   "source": [
    "# model.predict(X[3000:3010])"
   ]
  },
  {
   "cell_type": "code",
   "execution_count": 119,
   "metadata": {},
   "outputs": [
    {
     "data": {
      "text/plain": [
       "array([ 25.517,  26.893,  26.893,  23.79 ,  24.181,  24.849,  24.685,\n",
       "        24.842,  25.666,  25.253])"
      ]
     },
     "execution_count": 119,
     "metadata": {},
     "output_type": "execute_result"
    }
   ],
   "source": [
    "# X[3000:3010]"
   ]
  },
  {
   "cell_type": "code",
   "execution_count": 131,
   "metadata": {},
   "outputs": [],
   "source": [
    "test_len = 100"
   ]
  },
  {
   "cell_type": "code",
   "execution_count": 147,
   "metadata": {},
   "outputs": [
    {
     "name": "stdout",
     "output_type": "stream",
     "text": [
      "3\n",
      "97\n",
      "30  :  0.958000540212\n",
      "3\n",
      "97\n",
      "50  :  0.880959131292\n",
      "3\n",
      "97\n",
      "70  :  0.940857304665\n",
      "3\n",
      "97\n",
      "90  :  0.470694965646\n",
      "3\n",
      "97\n",
      "110  :  0.934974503768\n",
      "3\n",
      "97\n",
      "130  :  0.943990131034\n",
      "3\n",
      "97\n",
      "150  :  0.774452539231\n",
      "3\n",
      "97\n",
      "170  :  0.940785690612\n",
      "3\n",
      "97\n",
      "190  :  0.939372047478\n"
     ]
    }
   ],
   "source": [
    "for epoch in range(30, 200, 20):\n",
    "    model.fit(X[:len(X) - test_len], n_epochs=epoch)\n",
    "    pred_vals = model.predict(X[len(X) - test_len:])\n",
    "    actual_vals = X[len(X) - test_len:]\n",
    "    print(epoch, \" : \", r2_score(pred_vals[3:], actual_vals[3:]))"
   ]
  },
  {
   "cell_type": "code",
   "execution_count": 139,
   "metadata": {},
   "outputs": [
    {
     "data": {
      "text/plain": [
       "[<matplotlib.lines.Line2D at 0x7fa3caff2278>]"
      ]
     },
     "execution_count": 139,
     "metadata": {},
     "output_type": "execute_result"
    },
    {
     "data": {
      "image/png": "[encoded data removed]",
      "text/plain": [
       "<Figure size 432x288 with 1 Axes>"
      ]
     },
     "metadata": {},
     "output_type": "display_data"
    }
   ],
   "source": [
    "plt.plot([x for x in range(test_len)], actual_vals)\n",
    "        \n",
    "plt.plot([x for x in range(test_len)], pred_vals)"
   ]
  },
  {
   "cell_type": "code",
   "execution_count": 140,
   "metadata": {},
   "outputs": [
    {
     "data": {
      "text/plain": [
       "0.89530655023746952"
      ]
     },
     "execution_count": 140,
     "metadata": {},
     "output_type": "execute_result"
    }
   ],
   "source": [
    "r2_score(pred_vals[3:], actual_vals[3:])"
   ]
  },
  {
   "cell_type": "code",
   "execution_count": null,
   "metadata": {},
   "outputs": [],
   "source": []
  }
 ],
 "metadata": {
  "kernelspec": {
   "display_name": "Python 3",
   "language": "python",
   "name": "python3"
  },
  "language_info": {
   "codemirror_mode": {
    "name": "ipython",
    "version": 3
   },
   "file_extension": ".py",
   "mimetype": "text/x-python",
   "name": "python",
   "nbconvert_exporter": "python",
   "pygments_lexer": "ipython3",
   "version": "3.6.3"
  }
 },
 "nbformat": 4,
 "nbformat_minor": 2
}
