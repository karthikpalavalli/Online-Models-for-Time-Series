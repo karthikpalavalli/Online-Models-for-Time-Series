{
 "cells": [
  {
   "cell_type": "code",
   "execution_count": 1,
   "metadata": {},
   "outputs": [],
   "source": [
    "import numpy as np\n",
    "from copy import deepcopy"
   ]
  },
  {
   "cell_type": "code",
   "execution_count": 19,
   "metadata": {},
   "outputs": [
    {
     "name": "stdout",
     "output_type": "stream",
     "text": [
      "Date,Open,High,Low,Close,Volume,OpenInt\n",
      "\n",
      "1999-11-18,30.713,33.754,27.002,29.702,66277506,0\n",
      "\n"
     ]
    }
   ],
   "source": [
    "path_to_data = 'Data/Stocks/a.us.txt'\n",
    "\n",
    "with open(path_to_data, 'r') as stream:\n",
    "    data_lines = stream.readlines()\n",
    "\n",
    "print(data_lines[0])\n",
    "print(data_lines[1])\n",
    "\n",
    "X = list()\n",
    "\n",
    "data_lines = data_lines[1:]\n",
    "\n",
    "for line in data_lines:\n",
    "    try:\n",
    "        X.append(float(line.split(',')[1]))\n",
    "    except:\n",
    "        print(line)\n",
    "\n",
    "X = np.array(X)"
   ]
  },
  {
   "cell_type": "code",
   "execution_count": 40,
   "metadata": {},
   "outputs": [],
   "source": [
    "class ARMA_OGD:\n",
    "    \"\"\"\n",
    "    AutoRegressive Moving Average model with parameter estimation by Online Gradient Descent.\n",
    "    \"\"\"\n",
    "    \n",
    "    def __init__(self, k = 3, q = 3, eta = 0.001, threshold = 0.001, logger=False, plot=False):\n",
    "        \"\"\"\n",
    "        \n",
    "        \"\"\"\n",
    "        self.k = k\n",
    "        self.q = q\n",
    "        self.eta = eta\n",
    "        self.threshold = threshold\n",
    "        self.w_ma = np.random.randn(k)\n",
    "        self.w_ar = np.random.randn(q)\n",
    "        \n",
    "        self.logger = logger\n",
    "        self.plot = plot\n",
    "        \n",
    "    def fit(self, X, n_epochs = 10):\n",
    "        max_kq = max(self.k, self.q)\n",
    "        k_offset = max_kq - self.k\n",
    "        q_offset = max_kq - self.q\n",
    "        \n",
    "        w_ma = self.w_ma\n",
    "        w_ar = self.w_ar\n",
    "        \n",
    "        \n",
    "        n = X.shape[0]\n",
    "        \n",
    "        Y = np.random.randn(n)\n",
    "        \n",
    "        ma_changes = list()\n",
    "        ar_changes = list()\n",
    "        errors = list()\n",
    "        \n",
    "        for i in range(n_epochs):\n",
    "            old_ma = w_ma.copy()\n",
    "            old_ar = w_ar.copy()\n",
    "            \n",
    "            for j in np.random.permutation(n - max_kq):\n",
    "                curr_idx = j + max_kq\n",
    "                \n",
    "                x_prev = X[j+k_offset : curr_idx]\n",
    "                y_prev = Y[j+q_offset : curr_idx]\n",
    "                \n",
    "                pred = np.dot(x_prev, w_ma) + np.dot(y_prev, w_ar)\n",
    "                \n",
    "                Y[curr_idx] = pred\n",
    "                err = X[curr_idx] - pred\n",
    "                \n",
    "            ma_change = np.linalg.norm(old_ma - w_ma)\n",
    "            ma_changes.append(ma_change)\n",
    "            \n",
    "            ar_change = np.linalg.norm(old_ar - w_ar)\n",
    "            ar_changes.append(ar_change)\n",
    "            \n",
    "            mean_abs_error = np.mean(np.abs(Y[max_kq:] - X[max_kq:]))\n",
    "            errors.append(mean_abs_error)\n",
    "            \n",
    "            if ar_change < self.threshold and ma_change < self.threshold:\n",
    "                break\n",
    "        \n",
    "        self.w_ma = w_ma\n",
    "        self.w_ar = w_ar\n",
    "    \n",
    "    def predict(self, X):\n",
    "        max_kq = max(self.k, self.q)\n",
    "        \n",
    "        n = X.shape[0]\n",
    "        Y = np.zeros(n)\n",
    "        \n",
    "        print(max_kq)\n",
    "        print(n - max_kq)\n",
    "        \n",
    "        for i in np.arange(n - max_kq):\n",
    "            curr_idx = i + max_kq\n",
    "            \n",
    "            x_prev = X[i + max_kq - self.k : curr_idx]\n",
    "            y_prev = Y[i + max_kq - self.q : curr_idx]\n",
    "            \n",
    "            Y[curr_idx] = np.dot(x_prev, self.w_ma) + np.dot(y_prev, self.w_ar)\n",
    "            \n",
    "        \n",
    "        return Y"
   ]
  },
  {
   "cell_type": "code",
   "execution_count": 41,
   "metadata": {},
   "outputs": [],
   "source": [
    "model = ARMA_OGD()"
   ]
  },
  {
   "cell_type": "code",
   "execution_count": 42,
   "metadata": {},
   "outputs": [],
   "source": [
    "model.fit(X)"
   ]
  },
  {
   "cell_type": "code",
   "execution_count": 50,
   "metadata": {},
   "outputs": [
    {
     "name": "stdout",
     "output_type": "stream",
     "text": [
      "3\n",
      "1\n"
     ]
    },
    {
     "data": {
      "text/plain": [
       "array([  0.        ,   0.        ,   0.        ,  11.28442728])"
      ]
     },
     "execution_count": 50,
     "metadata": {},
     "output_type": "execute_result"
    }
   ],
   "source": [
    "model.predict(X[16:20])"
   ]
  },
  {
   "cell_type": "code",
   "execution_count": null,
   "metadata": {},
   "outputs": [],
   "source": []
  }
 ],
 "metadata": {
  "kernelspec": {
   "display_name": "Python 3",
   "language": "python",
   "name": "python3"
  },
  "language_info": {
   "codemirror_mode": {
    "name": "ipython",
    "version": 3
   },
   "file_extension": ".py",
   "mimetype": "text/x-python",
   "name": "python",
   "nbconvert_exporter": "python",
   "pygments_lexer": "ipython3",
   "version": "3.6.3"
  }
 },
 "nbformat": 4,
 "nbformat_minor": 2
}
